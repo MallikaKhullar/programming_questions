{
 "cells": [
  {
   "cell_type": "markdown",
   "metadata": {},
   "source": [
    "# MIN HEAP API"
   ]
  },
  {
   "cell_type": "code",
   "execution_count": 2,
   "metadata": {
    "collapsed": true
   },
   "outputs": [],
   "source": [
    "import math"
   ]
  },
  {
   "cell_type": "markdown",
   "metadata": {},
   "source": [
    "## UTILS"
   ]
  },
  {
   "cell_type": "code",
   "execution_count": 3,
   "metadata": {
    "collapsed": true
   },
   "outputs": [],
   "source": [
    "# Util methods\n",
    "\n",
    "def swap(i, j):\n",
    "    temp = heap[i]\n",
    "    heap[i] = heap[j]\n",
    "    heap[j] = temp\n",
    "    \n",
    "    \n",
    "def has_parent(index):\n",
    "    return get_parent(index)[0] >= 0\n",
    "    \n",
    "    \n",
    "def get_parent(index): \n",
    "    if(index >= len(heap)): return (-1, -1);\n",
    "    p_index = int(math.ceil(float(index-2)/2))\n",
    "    return p_index, heap[p_index]\n",
    "\n",
    "\n",
    "def has_left_child(index):\n",
    "    c_index = index*2 + 1\n",
    "    return c_index < len(heap)\n",
    "\n",
    "\n",
    "def has_right_child(index):\n",
    "    c_index = index*2 + 2\n",
    "    return c_index < len(heap)\n",
    "\n",
    "\n",
    "def get_left_child(index): \n",
    "    c_index = index*2 + 1\n",
    "    try: return c_index, heap[c_index]\n",
    "    except IndexError as err: return -1\n",
    "\n",
    "    \n",
    "def get_right_child(index):\n",
    "    c_index = index*2 + 2\n",
    "    try: return c_index, heap[c_index]\n",
    "    except IndexError as err: return -1\n",
    "\n",
    "\n",
    "def get_min_val():\n",
    "    return heap[0]\n",
    "\n",
    "def heapify_up(should_print):\n",
    "    #take last element, bubble it up\n",
    "    index = len(heap) - 1\n",
    "    if should_print: print (\"\\nBefore heapify:\", heap)\n",
    "    while(has_parent(index) and get_parent(index)[1] > heap[index]):\n",
    "        swap(get_parent(index)[0], index)\n",
    "        index = get_parent(index)[0]\n",
    "    if should_print: print (\"After heapify:\", heap)\n",
    "\n",
    "        \n",
    "def heapify_down(index, should_print):\n",
    "    #take element at index, bubble it down\n",
    "        \n",
    "    if should_print: print (\"\\nBefore heapify:\", heap)\n",
    "    while(has_left_child(index)):\n",
    "        small_child_index = get_left_child(index)[0]\n",
    "        if(has_right_child(index) and get_right_child(index)[1]<get_left_child(index)[1]): \n",
    "            small_child_index = get_right_child(index)[0]\n",
    "        if(heap[index] < heap[small_child_index]): break;\n",
    "        else:\n",
    "            swap(index, small_child_index)\n",
    "            index = small_child_index\n",
    "    if should_print: print (\"After heapify:\", heap)\n"
   ]
  },
  {
   "cell_type": "markdown",
   "metadata": {},
   "source": [
    "## HEAP API"
   ]
  },
  {
   "cell_type": "code",
   "execution_count": 4,
   "metadata": {
    "collapsed": true
   },
   "outputs": [],
   "source": [
    "# Heap API\n",
    "\n",
    "def delete_min():\n",
    "    heap[0] = heap[len(heap)-1]\n",
    "    heap.pop()\n",
    "    heapify_down(0, \"False\")\n",
    "\n",
    "def insert_element(item):\n",
    "    heap.append(item)\n",
    "    heapify_up(False)\n",
    "\n",
    "\n"
   ]
  },
  {
   "cell_type": "markdown",
   "metadata": {
    "collapsed": true
   },
   "source": [
    "## HEAP SORT"
   ]
  },
  {
   "cell_type": "code",
   "execution_count": 12,
   "metadata": {
    "collapsed": true
   },
   "outputs": [],
   "source": [
    "from __future__ import print_function\n",
    "\n",
    "\n",
    "def build_max_heap():\n",
    "    for i in range(int(math.floor(len(heap)/2)), -1, -1):\n",
    "        print(\"Dealing with parent\", i)\n",
    "        heapify_down(i, False)\n",
    "        print(\"Heap now\", heap)\n",
    "\n",
    "def sort():\n",
    "    pos = len(heap)-1\n",
    "    build_max_heap()\n",
    "    print (\"Sorted:\", end=\" \")\n",
    "    for i in range(len(heap)-1, -1, -1):\n",
    "        swap (0, i)\n",
    "        print (heap.pop(), end=\" \")\n",
    "        heapify_down(0, False)\n",
    "\n",
    "    "
   ]
  },
  {
   "cell_type": "code",
   "execution_count": 9,
   "metadata": {},
   "outputs": [
    {
     "name": "stdout",
     "output_type": "stream",
     "text": [
      "Dealing with parent 3\n",
      "Dealing with parent 2\n",
      "Dealing with parent 1\n",
      "Dealing with parent 0\n",
      "Sorted: 1 3 10 20 60 200 \n",
      "Dealing with parent 4\n",
      "Dealing with parent 3\n",
      "Dealing with parent 2\n",
      "Dealing with parent 1\n",
      "Dealing with parent 0\n",
      "Sorted: 1 3 18 20 30 60 91 904 "
     ]
    }
   ],
   "source": [
    "heap = [200,3,60,10,20,1]\n",
    "sort()\n",
    "print (\"\")\n",
    "\n",
    "\n",
    "heap = [91, 904, 18,30,60,3,20,1]\n",
    "sort()\n"
   ]
  },
  {
   "cell_type": "code",
   "execution_count": 13,
   "metadata": {},
   "outputs": [
    {
     "name": "stdout",
     "output_type": "stream",
     "text": [
      "Dealing with parent 4\n",
      "Heap now [8, 5, 6, 1, 3, 4, 7, 0]\n",
      "Dealing with parent 3\n",
      "Heap now [8, 5, 6, 0, 3, 4, 7, 1]\n",
      "Dealing with parent 2\n",
      "Heap now [8, 5, 4, 0, 3, 6, 7, 1]\n",
      "Dealing with parent 1\n",
      "Heap now [8, 0, 4, 1, 3, 6, 7, 5]\n",
      "Dealing with parent 0\n",
      "Heap now [0, 1, 4, 5, 3, 6, 7, 8]\n"
     ]
    }
   ],
   "source": [
    "heap = [8,5,6,1,3,4,7,0]\n",
    "build_max_heap()"
   ]
  },
  {
   "cell_type": "code",
   "execution_count": 11,
   "metadata": {},
   "outputs": [
    {
     "data": {
      "text/plain": [
       "[0, 1, 4, 5, 3, 6, 7, 8]"
      ]
     },
     "execution_count": 11,
     "metadata": {},
     "output_type": "execute_result"
    }
   ],
   "source": [
    "heap"
   ]
  },
  {
   "cell_type": "code",
   "execution_count": null,
   "metadata": {
    "collapsed": true
   },
   "outputs": [],
   "source": []
  }
 ],
 "metadata": {
  "kernelspec": {
   "display_name": "Python 2",
   "language": "python",
   "name": "python2"
  },
  "language_info": {
   "codemirror_mode": {
    "name": "ipython",
    "version": 2
   },
   "file_extension": ".py",
   "mimetype": "text/x-python",
   "name": "python",
   "nbconvert_exporter": "python",
   "pygments_lexer": "ipython2",
   "version": "2.7.13"
  }
 },
 "nbformat": 4,
 "nbformat_minor": 2
}
