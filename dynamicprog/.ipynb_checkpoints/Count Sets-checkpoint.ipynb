{
 "cells": [
  {
   "cell_type": "markdown",
   "metadata": {},
   "source": [
    "# FIND NUMBER OF SUBSETS SUMMMING TO A NUMBER\n",
    "### USING RECURSION"
   ]
  },
  {
   "cell_type": "code",
   "execution_count": 159,
   "metadata": {},
   "outputs": [],
   "source": [
    "def count_sets(arr, test_sum):\n",
    "    global rc\n",
    "    rc = 0\n",
    "    print \"search\", test_sum, \"in\",arr, \"\\n#subsets:\",count_subsets(arr, test_sum, len(arr)-1),\" #count:\",rc,\"\\n\"\n",
    "    \n",
    "def count_subsets(arr, test_sum, index):\n",
    "    global rc\n",
    "    rc += 1\n",
    "    \n",
    "    # write base cases\n",
    "    \n",
    "    if test_sum == 0: return 1                           # only 1 subset equals zero sum - the empty subset\n",
    "    if test_sum < 0:return 0                             # no negative sums allowed\n",
    "    if index < 0: return 0                               # end reached\n",
    "    if test_sum < arr[index]:                            # can't include a number bigger than sum\n",
    "        return count_subsets(arr, test_sum, index-1)\n",
    "    \n",
    "    \n",
    "    # write recursion steps \n",
    "    \n",
    "    return (count_subsets(arr, test_sum - arr[index], index-1) +         #include this number\n",
    "            count_subsets(arr, test_sum, index-1))                       #don't include this number"
   ]
  },
  {
   "cell_type": "code",
   "execution_count": 176,
   "metadata": {},
   "outputs": [
    {
     "name": "stdout",
     "output_type": "stream",
     "text": [
      "search 16 in [2, 4, 6, 10] \n",
      "#subsets: 2  #count: 25 \n",
      "\n",
      "search 15 in [2, 3, 4, 10, 11, 12] \n",
      "#subsets: 3  #count: 46 \n",
      "\n",
      "search 30 in [2, 3, 4, 12, 14, 15, 10, 5, 6] \n",
      "#subsets: 13  #count: 407 \n",
      "\n"
     ]
    }
   ],
   "source": [
    "count_sets([2,4,6,10], 16)\n",
    "count_sets([2,3,4,10,11,12], 15)\n",
    "count_sets([2,3,4,12,14,15,10,5,6], 30)"
   ]
  },
  {
   "cell_type": "markdown",
   "metadata": {},
   "source": [
    "### USING DYNAMIC PROGRAMMING: MEMOIZATION\n"
   ]
  },
  {
   "cell_type": "code",
   "execution_count": 190,
   "metadata": {},
   "outputs": [],
   "source": [
    "def mem_count_sets(arr, test_sum):\n",
    "    # for counting how many times the recursion call was made\n",
    "    global rc\n",
    "    rc = 0 \n",
    "    mem = {}                                                   # initialitze memoization table\n",
    "    res = mem_count_subsets(arr, test_sum, len(arr)-1, mem)    # compute result\n",
    "    print_res(arr, test_sum, res, rc)                          # print result \n",
    "    \n",
    "def print_res(arr, test_sum, res, rc):\n",
    "    print \"search\", test_sum, \"in\",arr, \"\\n#subsets:\", res , \" #count:\", rc, \"\\n\"\n",
    "\n",
    "def mem_count_subsets(arr, test_sum, index, mem):\n",
    "    global rc\n",
    "    rc += 1\n",
    "    \n",
    "    # check for memoization table value\n",
    "    key = str(test_sum) + \":\" + str(index)\n",
    "    if key in mem: \n",
    "        # print \"found val of\", key, \"as\", mem[key]\n",
    "        return mem[key]\n",
    "    \n",
    "    # write base cases\n",
    "    \n",
    "    if test_sum == 0: return 1;            # only 1 subset equals zero sum - the empty subset\n",
    "    elif test_sum < 0: return 0;           # no negative sums allowed\n",
    "    elif index < 0: return 0;              # invalid index\n",
    "    elif test_sum < arr[index]:            # can't include a number bigger than sum\n",
    "        mem[key] = mem_count_subsets(arr, test_sum, index-1, mem)\n",
    "    \n",
    "    \n",
    "    # write recursion steps \n",
    "    \n",
    "    else:\n",
    "        mem[key] = (mem_count_subsets(arr, test_sum - arr[index], index-1, mem) +     # include this number\n",
    "            mem_count_subsets(arr, test_sum, index-1, mem))                           # don't include this number\n",
    "        \n",
    "    return mem[key]"
   ]
  },
  {
   "cell_type": "code",
   "execution_count": 191,
   "metadata": {},
   "outputs": [
    {
     "name": "stdout",
     "output_type": "stream",
     "text": [
      "search 16 in [2, 4, 6, 10] \n",
      "#subsets: 2  #count: 23 \n",
      "\n",
      "search 15 in [2, 3, 4, 10, 11, 12] \n",
      "#subsets: 3  #count: 45 \n",
      "\n",
      "search 30 in [2, 3, 4, 12, 14, 15, 10, 5, 6] \n",
      "#subsets: 13  #count: 212 \n",
      "\n"
     ]
    }
   ],
   "source": [
    "mem_count_sets([2,4,6,10], 16)\n",
    "mem_count_sets([2,3,4,10,11,12], 15)\n",
    "mem_count_sets([2,3,4,12,14,15,10,5,6], 30)"
   ]
  },
  {
   "cell_type": "code",
   "execution_count": null,
   "metadata": {
    "collapsed": true
   },
   "outputs": [],
   "source": []
  },
  {
   "cell_type": "code",
   "execution_count": null,
   "metadata": {
    "collapsed": true
   },
   "outputs": [],
   "source": []
  }
 ],
 "metadata": {
  "kernelspec": {
   "display_name": "Python 2",
   "language": "python",
   "name": "python2"
  },
  "language_info": {
   "codemirror_mode": {
    "name": "ipython",
    "version": 2
   },
   "file_extension": ".py",
   "mimetype": "text/x-python",
   "name": "python",
   "nbconvert_exporter": "python",
   "pygments_lexer": "ipython2",
   "version": "2.7.13"
  }
 },
 "nbformat": 4,
 "nbformat_minor": 2
}
