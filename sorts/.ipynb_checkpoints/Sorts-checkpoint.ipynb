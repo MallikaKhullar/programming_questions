{
 "cells": [
  {
   "cell_type": "markdown",
   "metadata": {},
   "source": [
    "# Sorting Algorithms"
   ]
  },
  {
   "cell_type": "markdown",
   "metadata": {},
   "source": [
    "## 1. Insertion Sort"
   ]
  },
  {
   "cell_type": "code",
   "execution_count": 151,
   "metadata": {},
   "outputs": [],
   "source": [
    "def insertion_sort(A, show_intermediate=False): # insert each element in its position in the left half array \n",
    "    \n",
    "    print \"\\nUnsorted:\", A\n",
    "    if show_intermediate: print \"Intermediate:\"\n",
    "    for i in range(len(A)):\n",
    "        pos = i\n",
    "        while (pos>0) and (A[pos-1] > A[pos]):\n",
    "            temp = A[pos-1]\n",
    "            A[pos-1] = A[pos]\n",
    "            A[pos] = temp\n",
    "            pos -= 1\n",
    "        if show_intermediate: print A\n",
    "            \n",
    "    print \"Sorted\", A\n"
   ]
  },
  {
   "cell_type": "code",
   "execution_count": 154,
   "metadata": {},
   "outputs": [
    {
     "name": "stdout",
     "output_type": "stream",
     "text": [
      "\n",
      "Unsorted: [10, 200, 30, 4, 1, 9]\n",
      "Intermediate:\n",
      "[10, 200, 30, 4, 1, 9]\n",
      "[10, 200, 30, 4, 1, 9]\n",
      "[10, 30, 200, 4, 1, 9]\n",
      "[4, 10, 30, 200, 1, 9]\n",
      "[1, 4, 10, 30, 200, 9]\n",
      "[1, 4, 9, 10, 30, 200]\n",
      "Sorted [1, 4, 9, 10, 30, 200]\n",
      "\n",
      "Unsorted: [1, 2, 3]\n",
      "Sorted [1, 2, 3]\n",
      "\n",
      "Unsorted: [3, 2, 1]\n",
      "Sorted [1, 2, 3]\n",
      "\n",
      "Unsorted: [30, 2, 1, -1, -2, 10, 0, 100]\n",
      "Sorted [-2, -1, 0, 1, 2, 10, 30, 100]\n"
     ]
    }
   ],
   "source": [
    "insertion_sort([10,200,30, 4, 1, 9], True)\n",
    "insertion_sort([1,2,3])\n",
    "insertion_sort([3,2,1])\n",
    "insertion_sort([30,2,1,-1,-2,10, 0, 100])"
   ]
  },
  {
   "cell_type": "markdown",
   "metadata": {},
   "source": [
    "## 2. Bubble Sort"
   ]
  },
  {
   "cell_type": "code",
   "execution_count": 189,
   "metadata": {},
   "outputs": [],
   "source": [
    "def bubble_sort(A, show_intermediate=False): #swap each pair, largest ends up in the end after each pass\n",
    "    print \"\\nUnsorted:\", A\n",
    "    if show_intermediate: print \"Intermediate:\"\n",
    "    while 1:\n",
    "        swapped = False\n",
    "        for i in range(len(A)-1):\n",
    "            if A[i] > A[i+1]:\n",
    "                temp = A[i]\n",
    "                A[i] = A[i+1]\n",
    "                A[i+1] = temp\n",
    "                swapped = True\n",
    "        if show_intermediate: print A\n",
    "        if swapped == False: break;\n",
    "    print \"Sorted:\", A"
   ]
  },
  {
   "cell_type": "code",
   "execution_count": 190,
   "metadata": {},
   "outputs": [
    {
     "name": "stdout",
     "output_type": "stream",
     "text": [
      "\n",
      "Unsorted: [10, 200, 30, 4, 1, 9]\n",
      "Intermediate:\n",
      "[10, 30, 4, 1, 9, 200]\n",
      "[10, 4, 1, 9, 30, 200]\n",
      "[4, 1, 9, 10, 30, 200]\n",
      "[1, 4, 9, 10, 30, 200]\n",
      "[1, 4, 9, 10, 30, 200]\n",
      "Sorted: [1, 4, 9, 10, 30, 200]\n",
      "\n",
      "Unsorted: [1, 2, 3]\n",
      "Sorted: [1, 2, 3]\n",
      "\n",
      "Unsorted: [3, 2, 1]\n",
      "Sorted: [1, 2, 3]\n",
      "\n",
      "Unsorted: [30, 2, 1, -1, -2, 10, 0, 100]\n",
      "Sorted: [-2, -1, 0, 1, 2, 10, 30, 100]\n"
     ]
    }
   ],
   "source": [
    "bubble_sort([10,200,30, 4, 1, 9], True)\n",
    "bubble_sort([1,2,3])\n",
    "bubble_sort([3,2,1])\n",
    "bubble_sort([30,2,1,-1,-2,10, 0, 100])"
   ]
  },
  {
   "cell_type": "markdown",
   "metadata": {},
   "source": [
    "## 3. Selection Sort"
   ]
  },
  {
   "cell_type": "code",
   "execution_count": 146,
   "metadata": {},
   "outputs": [],
   "source": [
    "def selection_sort(A, show_intermediate=False): #select min, move to end of left sorted array\n",
    "    print \"\\nUnsorted:\", A\n",
    "    if show_intermediate: print \"Intermediate:\"\n",
    "    for i in range(len(A)-1):\n",
    "        iMin = i\n",
    "        for j in range(i+1,len(A)):\n",
    "            if A[iMin] > A[j]:\n",
    "                iMin = j\n",
    "        temp = A[i]\n",
    "        A[i] = A[iMin]\n",
    "        A[iMin] = temp\n",
    "        if show_intermediate: print A\n",
    "        \n",
    "\n",
    "    print \"Sorted:\", A\n"
   ]
  },
  {
   "cell_type": "code",
   "execution_count": 147,
   "metadata": {},
   "outputs": [
    {
     "name": "stdout",
     "output_type": "stream",
     "text": [
      "\n",
      "Unsorted: [10, 200, 30, 4, 1, 9]\n",
      "Intermediate:\n",
      "[1, 200, 30, 4, 10, 9]\n",
      "[1, 4, 30, 200, 10, 9]\n",
      "[1, 4, 9, 200, 10, 30]\n",
      "[1, 4, 9, 10, 200, 30]\n",
      "[1, 4, 9, 10, 30, 200]\n",
      "Sorted: [1, 4, 9, 10, 30, 200]\n",
      "\n",
      "Unsorted: [1, 2, 3]\n",
      "Sorted: [1, 2, 3]\n",
      "\n",
      "Unsorted: [3, 2, 1]\n",
      "Sorted: [1, 2, 3]\n",
      "\n",
      "Unsorted: [30, 2, 1, -1, -2, 10, 0, 100]\n",
      "Sorted: [-2, -1, 0, 1, 2, 10, 30, 100]\n"
     ]
    }
   ],
   "source": [
    "selection_sort([10,200,30, 4, 1, 9], True)\n",
    "selection_sort([1,2,3])\n",
    "selection_sort([3,2,1])\n",
    "selection_sort([30,2,1,-1,-2,10, 0, 100])"
   ]
  },
  {
   "cell_type": "markdown",
   "metadata": {},
   "source": [
    "## 4. Merge Sort"
   ]
  },
  {
   "cell_type": "code",
   "execution_count": 228,
   "metadata": {},
   "outputs": [],
   "source": [
    "def merge(left, right, A):\n",
    "    i = 0\n",
    "    j = 0\n",
    "    k = 0\n",
    "    while i< len(left) and j<len(right): #merge both arrays while both have elements\n",
    "        if(left[i]<=right[j]): \n",
    "            A[k] = left[i]\n",
    "            i += 1\n",
    "        else:\n",
    "            A[k] = right[j]\n",
    "            j += 1\n",
    "        k += 1\n",
    "    while i< len(left): #\n",
    "        A[k] = left[i]\n",
    "        i += 1\n",
    "        k += 1\n",
    "    while j< len(right):\n",
    "        A[k] = right[j]\n",
    "        j += 1\n",
    "        k += 1\n",
    "        \n",
    "def merge_sort(A):\n",
    "    if len(A) < 2: return\n",
    "    mid = len(A) / 2\n",
    "    left = A[0:mid]\n",
    "    right = A[mid:len(A)]\n",
    "    merge_sort(left)\n",
    "    merge_sort(right)\n",
    "    merge(left, right, A)"
   ]
  },
  {
   "cell_type": "code",
   "execution_count": 233,
   "metadata": {},
   "outputs": [
    {
     "name": "stdout",
     "output_type": "stream",
     "text": [
      "Unsorted: [20, 19, 1, 10, 21, 5, 4, 2, 8]\n",
      "Sorted: [1, 2, 4, 5, 8, 10, 19, 20, 21]\n"
     ]
    }
   ],
   "source": [
    "A = [20, 19, 1, 10, 21, 5, 4, 2, 8] \n",
    "print \"Unsorted:\", A\n",
    "merge_sort(A)\n",
    "print \"Sorted:\",A"
   ]
  },
  {
   "cell_type": "markdown",
   "metadata": {},
   "source": [
    "## 5. Quick Sort"
   ]
  },
  {
   "cell_type": "code",
   "execution_count": 273,
   "metadata": {
    "collapsed": true
   },
   "outputs": [],
   "source": [
    "def partition(A, l, r):\n",
    "    pivot = A[r]\n",
    "    pos = l\n",
    "    for i in range(l, r):\n",
    "        if A[i] < pivot:\n",
    "            temp = A[i]\n",
    "            A[i] = A[pos]\n",
    "            A[pos] = temp\n",
    "            pos += 1\n",
    "    #swap pos element and pivot\n",
    "    temp = A[pos]\n",
    "    A[pos] = A[r]\n",
    "    A[r] = temp\n",
    "    return pos\n",
    "\n",
    "def quick_sort(A, l, r):\n",
    "    if (l >= r): return\n",
    "    print \"\\nDealing with\", A[l:r+1]\n",
    "    pos = partition(A, l, r)\n",
    "    print \"Partition found at\", pos, \"\\nNew array\", A[l:r+1]\n",
    "    quick_sort(A, l, pos-1)\n",
    "    quick_sort(A, pos+1,r)\n",
    "    \n",
    "    "
   ]
  },
  {
   "cell_type": "code",
   "execution_count": 274,
   "metadata": {},
   "outputs": [
    {
     "name": "stdout",
     "output_type": "stream",
     "text": [
      "\n",
      "Dealing with [15, 10, 4, 2, 8, 0, 20, 3]\n",
      "Partition found at 2 \n",
      "New array [2, 0, 3, 15, 8, 10, 20, 4]\n",
      "\n",
      "Dealing with [2, 0]\n",
      "Partition found at 0 \n",
      "New array [0, 2]\n",
      "\n",
      "Dealing with [15, 8, 10, 20, 4]\n",
      "Partition found at 3 \n",
      "New array [4, 8, 10, 20, 15]\n",
      "\n",
      "Dealing with [8, 10, 20, 15]\n",
      "Partition found at 6 \n",
      "New array [8, 10, 15, 20]\n",
      "\n",
      "Dealing with [8, 10]\n",
      "Partition found at 5 \n",
      "New array [8, 10]\n",
      "[0, 2, 3, 4, 8, 10, 15, 20]\n"
     ]
    }
   ],
   "source": [
    "A = [15,10,4,2,8,0,20,3]\n",
    "quick_sort(A, 0, len(A)-1)\n",
    "print A"
   ]
  },
  {
   "cell_type": "code",
   "execution_count": null,
   "metadata": {
    "collapsed": true
   },
   "outputs": [],
   "source": []
  }
 ],
 "metadata": {
  "kernelspec": {
   "display_name": "Python 2",
   "language": "python",
   "name": "python2"
  },
  "language_info": {
   "codemirror_mode": {
    "name": "ipython",
    "version": 2
   },
   "file_extension": ".py",
   "mimetype": "text/x-python",
   "name": "python",
   "nbconvert_exporter": "python",
   "pygments_lexer": "ipython2",
   "version": "2.7.13"
  }
 },
 "nbformat": 4,
 "nbformat_minor": 2
}
